{
 "cells": [
  {
   "cell_type": "markdown",
   "id": "9740ad5a",
   "metadata": {},
   "source": [
    "# 대도시권 광역교통 빅데이터 분석 시각화 및 활용 아이디어 경진대회 [링크](https://dacon.io/competitions/official/236009/overview/description)\n",
    "\n",
    "### 주제: 서울, 경기, 인천권 광역교통 분석을 통해 대중교통 노선이 부족한 지역을 찾아 노선 신설 또는 연장 제안"
   ]
  },
  {
   "cell_type": "code",
   "execution_count": 1,
   "id": "e13b5448",
   "metadata": {},
   "outputs": [],
   "source": [
    "import pandas as pd\n",
    "import numpy as np\n",
    "import matplotlib.pyplot as plt\n",
    "import seaborn as sns\n",
    "import openpyxl\n",
    "\n",
    "from matplotlib import rc\n",
    "rc(\"font\", family = \"Malgun Gothic\")\n",
    "\n",
    "get_ipython().run_line_magic(\"matplotlib\", \"inline\")\n",
    "\n",
    "from selenium import webdriver\n",
    "from selenium.webdriver.common.by import By\n",
    "from selenium.webdriver.chrome.service import Service\n",
    "from webdriver_manager.chrome import ChromeDriverManager\n",
    "from selenium.webdriver.common.keys import Keys\n",
    "\n",
    "import time\n",
    "from tqdm.notebook import tqdm\n",
    "\n",
    "from glob import glob\n",
    "import warnings\n",
    "warnings.filterwarnings('ignore')"
   ]
  },
  {
   "cell_type": "markdown",
   "id": "7476f4f7",
   "metadata": {},
   "source": [
    "## 제공 데이터 설명\n",
    "```\n",
    "<지역>\n",
    "수도권: 서울, 인천, 경기도\n",
    "부울권: 부산, 울산, 양산, 김해, 창원, 경주\n",
    "대구권: 대구, 구미, 경산, 영천, 군위, 청도, 고령, 성주, 칠곡, 창녕\n",
    "광주권: 광주, 나주, 담양, 화순, 함평, 장성\n",
    "대전권: 대전, 세종, 공주, 논산, 계룡, 금산, 청주, 보은, 옥천\n",
    "<시간>\n",
    "2019-2021년 3월 중 평일 1일\n",
    "```\n",
    "\n",
    "## 내용\n",
    "```\n",
    "Stop : 대중교통 정차지 정보\n",
    "Route : 대중교통 노선 기초정보\n",
    "RouteStop : 대중교통 노선별 경유정차지 정보\n",
    "StopTime : 대중교통 노선별, 운행회차별 정차순번 및 도착/출발시각 정보\n",
    "```"
   ]
  },
  {
   "cell_type": "code",
   "execution_count": null,
   "id": "64174f2e",
   "metadata": {},
   "outputs": [],
   "source": [
    "Stop_bus_2019 = pd.read_excel(\"./2019.03/201903_1_버스_1_BaseInfo.xlsx\", sheet_name=0)\n",
    "Route_bus_2019 = pd.read_excel(\"./2019.03/201903_1_버스_1_BaseInfo.xlsx\", sheet_name=1)\n",
    "RouteStop_bus_2019 = pd.read_excel(\"./2019.03/201903_1_버스_1_BaseInfo.xlsx\", sheet_name=2)\n",
    "StopTime_bus_2019 = pd.read_csv(\"./2019.03/201903_1_버스_2_StopTime.txt\")\n",
    "\n",
    "Stop_bus_2020 = pd.read_excel(\"./2020.03/202003_1_버스_1_BaseInfo.xlsx\", sheet_name=0)\n",
    "Route_bus_2020 = pd.read_excel(\"./2020.03/202003_1_버스_1_BaseInfo.xlsx\", sheet_name=1)\n",
    "RouteStop_bus_2020 = pd.read_excel(\"./2020.03/202003_1_버스_1_BaseInfo.xlsx\", sheet_name=2)\n",
    "StopTime_bus_2020 = pd.read_csv(\"./2020.03/202003_1_버스_2_StopTime.txt\")\n",
    "\n",
    "Stop_bus_2021 = pd.read_excel(\"./2021.03/202103_1_버스_1_BaseInfo.xlsx\", sheet_name=0)\n",
    "Route_bus_2021 = pd.read_excel(\"./2021.03/202103_1_버스_1_BaseInfo.xlsx\", sheet_name=1)\n",
    "RouteStop_bus_2021 = pd.read_excel(\"./2021.03/202103_1_버스_1_BaseInfo.xlsx\", sheet_name=2)\n",
    "StopTime_bus_2021 = pd.read_csv(\"./2021.03/202103_1_버스_2_StopTime.txt\")"
   ]
  },
  {
   "cell_type": "code",
   "execution_count": null,
   "id": "20df68a8",
   "metadata": {},
   "outputs": [],
   "source": [
    "Stop_rail_2019 = pd.read_excel(\"./2019.03/201903_2_도시철도.xlsx\", sheet_name=0)\n",
    "Xfer_rail_2019 = pd.read_excel(\"./2019.03/201903_2_도시철도.xlsx\", sheet_name=1)\n",
    "Route_rail_2019 = pd.read_excel(\"./2019.03/201903_2_도시철도.xlsx\", sheet_name=2)\n",
    "RouteStop_rail_2019 = pd.read_excel(\"./2019.03/201903_2_도시철도.xlsx\", sheet_name=3)\n",
    "StopTime_rail_2019 = pd.read_excel(\"./2019.03/201903_2_도시철도.xlsx\", sheet_name=4)\n",
    "\n",
    "Stop_rail_2020 = pd.read_excel(\"./2020.03/202003_2_도시철도.xlsx\", sheet_name=0)\n",
    "Xfer_rail_2020 = pd.read_excel(\"./2020.03/202003_2_도시철도.xlsx\", sheet_name=1)\n",
    "Route_rail_2020 = pd.read_excel(\"./2020.03/202003_2_도시철도.xlsx\", sheet_name=2)\n",
    "RouteStop_rail_2020 = pd.read_excel(\"./2020.03/202003_2_도시철도.xlsx\", sheet_name=3)\n",
    "StopTime_rail_2020 = pd.read_excel(\"./2020.03/202003_2_도시철도.xlsx\", sheet_name=4)\n",
    "\n",
    "Stop_rail_2021 = pd.read_excel(\"./2021.03/202103_2_도시철도.xlsx\", sheet_name=0)\n",
    "Xfer_rail_2021 = pd.read_excel(\"./2021.03/202103_2_도시철도.xlsx\", sheet_name=1)\n",
    "Route_rail_2021 = pd.read_excel(\"./2021.03/202103_2_도시철도.xlsx\", sheet_name=2)\n",
    "RouteStop_rail_2021 = pd.read_excel(\"./2021.03/202103_2_도시철도.xlsx\", sheet_name=3)\n",
    "StopTime_rail_2021 = pd.read_excel(\"./2021.03/202103_2_도시철도.xlsx\", sheet_name=4)"
   ]
  },
  {
   "cell_type": "markdown",
   "id": "94cb263e",
   "metadata": {},
   "source": [
    "---\n",
    "# 1. 통행량 데이터 수집\n",
    "#### [교통카드 빅데이터 종합정보시스템](https://stcis.go.kr/pivotIndi/wpsPivotIndicator.do?siteGb=P&indiClss=IC04) 페이지에서 2019-2021년 3월 평일 중 하루의 통행량 데이터 수집.\n",
    "#### 단위는 [시군구] 로 설정."
   ]
  },
  {
   "cell_type": "code",
   "execution_count": 6,
   "id": "72d69e4e",
   "metadata": {},
   "outputs": [],
   "source": [
    "url = \"https://stcis.go.kr/pivotIndi/wpsPivotIndicator.do?siteGb=P&indiClss=IC04\"\n",
    "chrome_options = webdriver.ChromeOptions()\n",
    "driver = webdriver.Chrome(service=Service('C:/Users/gktna/Documents/study/driver/chromedriver.exe'), options=chrome_options)\n",
    "driver.get(url)"
   ]
  },
  {
   "cell_type": "code",
   "execution_count": 23,
   "id": "49eb7d4a",
   "metadata": {},
   "outputs": [
    {
     "data": {
      "text/plain": [
       "['강남구',\n",
       " '강동구',\n",
       " '강북구',\n",
       " '강서구',\n",
       " '관악구',\n",
       " '광진구',\n",
       " '구로구',\n",
       " '금천구',\n",
       " '노원구',\n",
       " '도봉구',\n",
       " '동대문구',\n",
       " '동작구',\n",
       " '마포구',\n",
       " '서대문구',\n",
       " '서초구',\n",
       " '성동구',\n",
       " '성북구',\n",
       " '송파구',\n",
       " '양천구',\n",
       " '영등포구',\n",
       " '용산구',\n",
       " '은평구',\n",
       " '종로구',\n",
       " '중구',\n",
       " '중랑구']"
      ]
     },
     "execution_count": 23,
     "metadata": {},
     "output_type": "execute_result"
    }
   ],
   "source": [
    "driver.find_element(By.XPATH, '//*[@id=\"divRdoODAear\"]/li[2]')\n",
    "driver.find_element(By.XPATH, '//*[@id=\"searchStgptZoneSd\"]').send_keys(\"서울특별시\")\n",
    "ss_list = driver.find_element(By.XPATH, '//*[@id=\"searchStgptZoneSgg\"]').text.split('\\n')[1:]\n",
    "ss_list"
   ]
  },
  {
   "cell_type": "code",
   "execution_count": 27,
   "id": "2d197b70",
   "metadata": {},
   "outputs": [
    {
     "data": {
      "text/plain": [
       "['가평군',\n",
       " '고양시',\n",
       " '과천시',\n",
       " '광명시',\n",
       " '광주시',\n",
       " '구리시',\n",
       " '군포시',\n",
       " '김포시',\n",
       " '남양주시',\n",
       " '동두천시',\n",
       " '부천시',\n",
       " '성남시',\n",
       " '수원시',\n",
       " '시흥시',\n",
       " '안산시',\n",
       " '안성시',\n",
       " '안양시',\n",
       " '양주시',\n",
       " '양평군',\n",
       " '여주시',\n",
       " '연천군',\n",
       " '오산시',\n",
       " '용인시',\n",
       " '의왕시',\n",
       " '의정부시',\n",
       " '이천시',\n",
       " '파주시',\n",
       " '평택시',\n",
       " '포천시',\n",
       " '하남시',\n",
       " '화성시']"
      ]
     },
     "execution_count": 27,
     "metadata": {},
     "output_type": "execute_result"
    }
   ],
   "source": [
    "driver.find_element(By.XPATH, '//*[@id=\"searchStgptZoneSd\"]').send_keys(\"경기도\")\n",
    "gg_list = driver.find_element(By.XPATH, '//*[@id=\"searchStgptZoneSgg\"]').text.split('\\n')[1:]\n",
    "gg_list"
   ]
  },
  {
   "cell_type": "code",
   "execution_count": 26,
   "id": "171ff1f6",
   "metadata": {},
   "outputs": [
    {
     "data": {
      "text/plain": [
       "['강화군', '계양구', '남동구', '동구', '미추홀구', '부평구', '서구', '연수구', '옹진군', '중구']"
      ]
     },
     "execution_count": 26,
     "metadata": {},
     "output_type": "execute_result"
    }
   ],
   "source": [
    "driver.find_element(By.XPATH, '//*[@id=\"searchStgptZoneSd\"]').send_keys(\"인천광역시\")\n",
    "ii_list = driver.find_element(By.XPATH, '//*[@id=\"searchStgptZoneSgg\"]').text.split('\\n')[1:]\n",
    "ii_list"
   ]
  },
  {
   "cell_type": "code",
   "execution_count": 28,
   "id": "ee30dd4c",
   "metadata": {},
   "outputs": [],
   "source": [
    "si_list = ['서울특별시', '인천광역시', '경기도']\n",
    "gu_list = [ss_list, ii_list, gg_list]"
   ]
  },
  {
   "cell_type": "code",
   "execution_count": 32,
   "id": "8675908b",
   "metadata": {},
   "outputs": [
    {
     "data": {
      "application/vnd.jupyter.widget-view+json": {
       "model_id": "52d2bf1e50a845a5898e2d40227703ea",
       "version_major": 2,
       "version_minor": 0
      },
      "text/plain": [
       "  0%|          | 0/3 [00:00<?, ?it/s]"
      ]
     },
     "metadata": {},
     "output_type": "display_data"
    }
   ],
   "source": [
    "for i in tqdm(range(0, 3)):\n",
    "    driver.find_element(By.XPATH, '//*[@id=\"divRdoDate\"]/li[3]').click() # 기간선택-일\n",
    "    driver.find_element(By.XPATH, '//*[@id=\"date3\"]/li[1]/img').click() # 달력그림 (위)\n",
    "    driver.find_element(By.XPATH, '//*[@id=\"ui-datepicker-div\"]/div/div/select[1]/option[1]').click() # 연도 선택\n",
    "    driver.find_element(By.XPATH, '//*[@id=\"ui-datepicker-div\"]/div/div/select[2]/option[3]').click() # 3월\n",
    "    driver.find_element(By.XPATH, '//*[@id=\"ui-datepicker-div\"]/table/tbody/tr[3]/td[4]').click() # 평일 날짜 선택\n",
    "\n",
    "    driver.find_element(By.XPATH, '//*[@id=\"date3\"]/li[2]/img').click() # 달력그림 (아래)\n",
    "    driver.find_element(By.XPATH, '//*[@id=\"ui-datepicker-div\"]/div/div/select[1]/option[1]').click() # 연도 선택 \n",
    "    driver.find_element(By.XPATH, '//*[@id=\"ui-datepicker-div\"]/div/div/select[2]/option[1]').click() # 3월\n",
    "    driver.find_element(By.XPATH, '//*[@id=\"ui-datepicker-div\"]/table/tbody/tr[3]/td[4]').click() # 평일 날짜 선택\n",
    "\n",
    "    for k in range(len(gu_list[i])):\n",
    "\n",
    "        driver.find_element(By.XPATH, '//*[@id=\"divRdoODAear\"]/li[2]').click() # 출발지 선택 - 시군구\n",
    "\n",
    "        driver.find_element(By.XPATH, '//*[@id=\"searchStgptZoneSd\"]').send_keys(si_list[i]) # 시도 입력\n",
    "\n",
    "        driver.find_element(By.XPATH, '//*[@id=\"searchStgptZoneSgg\"]').send_keys(gu_list[i][k]) # 시군구 입력\n",
    "\n",
    "        driver.find_element(By.XPATH, '//*[@id=\"OD_end_box\"]/div[1]/ul[2]/li/label[2]').click()  # 도착지 선택 - 시군구전체선택 클릭\n",
    "\n",
    "        driver.find_element(By.XPATH, '//*[@id=\"btnSearch\"]/button').click() # 결과보기 버튼\n",
    "\n",
    "        time.sleep(5)\n",
    "\n",
    "        try:\n",
    "            driver.find_element(By.XPATH, '//*[@id=\"rgrstyReportResult\"]/h2/p/span[1]').click()  #다운로드 버튼\n",
    "        except:\n",
    "            print( gu_list[i][k], ' 다운로드 실패')\n",
    "            \n",
    "\n",
    "\n",
    "\n",
    "        time.sleep(5)\n",
    "\n",
    "        driver.find_element(By.XPATH, '//*[@id=\"tab1\"]/div[2]/div[3]/button').click() # 뒤로가기 버튼\n",
    "\n",
    "        time.sleep(1) "
   ]
  },
  {
   "cell_type": "code",
   "execution_count": 33,
   "id": "44215e3c",
   "metadata": {},
   "outputs": [],
   "source": [
    "driver.close()\n",
    "driver.quit()"
   ]
  },
  {
   "cell_type": "markdown",
   "id": "713d26ac",
   "metadata": {},
   "source": [
    "---\n",
    "# 2. 전철역, 버스정류장 주소 수집\n",
    "#### 카카오 맵 이용\n",
    "#### 위도, 경도 값으로 검색\n",
    "#### 정류장 이름, 시/도, 시/군/구, 동/읍/면, 위도, 경도 값 저장"
   ]
  },
  {
   "cell_type": "code",
   "execution_count": null,
   "id": "35178440",
   "metadata": {},
   "outputs": [],
   "source": [
    "url = \"https://map.kakao.com/\"\n",
    "chrome_options = webdriver.ChromeOptions()\n",
    "driver = webdriver.Chrome(service=Service('C:/Users/gktna/Documents/study/driver/chromedriver.exe'), options=chrome_options)\n",
    "driver.get(url)"
   ]
  },
  {
   "cell_type": "markdown",
   "id": "c5d04e2a",
   "metadata": {},
   "source": [
    "### (1) 전철역"
   ]
  },
  {
   "cell_type": "markdown",
   "id": "9379c677",
   "metadata": {},
   "source": [
    "#### 2019년"
   ]
  },
  {
   "cell_type": "code",
   "execution_count": null,
   "id": "73266cfa",
   "metadata": {},
   "outputs": [],
   "source": [
    "Stop_rail_2019['Lati'] = Stop_rail_2019['Lati'].astype(str)\n",
    "Stop_rail_2019['Long'] = Stop_rail_2019['Long'].astype(str)\n",
    "Stop_rail_2019.info()"
   ]
  },
  {
   "cell_type": "code",
   "execution_count": null,
   "id": "f0e5a9c5",
   "metadata": {},
   "outputs": [],
   "source": [
    "list_1 = []\n",
    "list_2 = []\n",
    "list_3 = []\n",
    "list_4 = []\n",
    "list_5 = []\n",
    "list_6 = []\n",
    "list_7 = []\n",
    "\n",
    "\n",
    "for idx, row in tqdm(Stop_rail_2019.iterrows()):\n",
    "    t = str(row['Lati'] + \", \" + row['Long'])\n",
    "    driver.find_element(By.XPATH, '//*[@id=\"search.keyword.query\"]').send_keys(t)\n",
    "    driver.find_element(By.XPATH,'//*[@id=\"search.keyword.submit\"]').send_keys(Keys.RETURN)\n",
    "    time.sleep(2)\n",
    "    \n",
    "    try:\n",
    "        s = driver.find_element(By.XPATH, '//*[@id=\"localInfo.map\"]/div[1]').text\n",
    "        g = driver.find_element(By.XPATH, '//*[@id=\"localInfo.map\"]/div[2]').text\n",
    "        d = driver.find_element(By.XPATH, '//*[@id=\"localInfo.map\"]/div[3]').text\n",
    "     \n",
    "    except:\n",
    "        s = \"1\"\n",
    "        g = \"1\"\n",
    "        d = \"1\"\n",
    "        \n",
    "    list_1.append(s) \n",
    "    list_2.append(g) \n",
    "    list_3.append(d) \n",
    "    list_4.append(row['Lati'])\n",
    "    list_5.append(row['Long'])\n",
    "    list_6.append(row['Stop_ID'])\n",
    "    list_7.append(row['Stop_NM'])\n",
    "     \n",
    "        \n",
    "    driver.find_element(By.XPATH,'//*[@id=\"search.keyword.query\"]').clear()"
   ]
  },
  {
   "cell_type": "code",
   "execution_count": null,
   "id": "e5d70282",
   "metadata": {},
   "outputs": [],
   "source": [
    "stop_rail_2019_df = pd.DataFrame(list(zip(list_6, list_7list_1, list_2 , list_3 , list_4, list_5)), \n",
    "                            columns=[\"Stop_ID\", \"Stop_NM\", '시/도',\"시/군/구\", '동', 'Lati', 'Long'])\n",
    "stop_rail_2019_df"
   ]
  },
  {
   "cell_type": "markdown",
   "id": "43de4f48",
   "metadata": {},
   "source": [
    "#### 2020년"
   ]
  },
  {
   "cell_type": "code",
   "execution_count": null,
   "id": "73c59ffe",
   "metadata": {},
   "outputs": [],
   "source": [
    "Stop_rail_2020['Lati'] = Stop_rail_2020['Lati'].astype(str)\n",
    "Stop_rail_2020['Long'] = Stop_rail_2020['Long'].astype(str)\n",
    "Stop_rail_2020.info()"
   ]
  },
  {
   "cell_type": "code",
   "execution_count": null,
   "id": "9df64369",
   "metadata": {},
   "outputs": [],
   "source": [
    "list_1 = []\n",
    "list_2 = []\n",
    "list_3 = []\n",
    "list_4 = []\n",
    "list_5 = []\n",
    "list_6 = []\n",
    "list_7 = []\n",
    "\n",
    "\n",
    "for idx, row in tqdm(Stop_rail_2020.iterrows()):\n",
    "    t = str(row['Lati'] + \", \" + row['Long'])\n",
    "    driver.find_element(By.XPATH, '//*[@id=\"search.keyword.query\"]').send_keys(t)\n",
    "    driver.find_element(By.XPATH,'//*[@id=\"search.keyword.submit\"]').send_keys(Keys.RETURN)\n",
    "    time.sleep(2)\n",
    "    \n",
    "    try:\n",
    "        s = driver.find_element(By.XPATH, '//*[@id=\"localInfo.map\"]/div[1]').text\n",
    "        g = driver.find_element(By.XPATH, '//*[@id=\"localInfo.map\"]/div[2]').text\n",
    "        d = driver.find_element(By.XPATH, '//*[@id=\"localInfo.map\"]/div[3]').text\n",
    "     \n",
    "    except:\n",
    "        s = \"1\"\n",
    "        g = \"1\"\n",
    "        d = \"1\"\n",
    "        \n",
    "    list_1.append(s) \n",
    "    list_2.append(g) \n",
    "    list_3.append(d) \n",
    "    list_4.append(row['Lati'])\n",
    "    list_5.append(row['Long'])\n",
    "    list_6.append(row['Stop_ID'])\n",
    "    list_7.append(row['Stop_NM'])\n",
    "     \n",
    "        \n",
    "    driver.find_element(By.XPATH,'//*[@id=\"search.keyword.query\"]').clear()"
   ]
  },
  {
   "cell_type": "code",
   "execution_count": null,
   "id": "8b08d903",
   "metadata": {},
   "outputs": [],
   "source": [
    "stop_rail_2020_df = pd.DataFrame(list(zip(list_6, list_7list_1, list_2 , list_3 , list_4, list_5)), \n",
    "                            columns=[\"Stop_ID\", \"Stop_NM\", '시/도',\"시/군/구\", '동', 'Lati', 'Long'])\n",
    "stop_rail_2020_df"
   ]
  },
  {
   "cell_type": "markdown",
   "id": "672caf89",
   "metadata": {},
   "source": [
    "#### 2021년"
   ]
  },
  {
   "cell_type": "code",
   "execution_count": 44,
   "id": "c22e19bb",
   "metadata": {},
   "outputs": [],
   "source": [
    "Stop_rail_2021['Lati'] = Stop_rail_2021['Lati'].astype(str)\n",
    "Stop_rail_2021['Long'] = Stop_rail_2021['Long'].astype(str)\n",
    "Stop_rail_2021.info()"
   ]
  },
  {
   "cell_type": "code",
   "execution_count": null,
   "id": "4a20159e",
   "metadata": {},
   "outputs": [],
   "source": [
    "list_1 = []\n",
    "list_2 = []\n",
    "list_3 = []\n",
    "list_4 = []\n",
    "list_5 = []\n",
    "list_6 = []\n",
    "list_7 = []\n",
    "\n",
    "\n",
    "for idx, row in tqdm(Stop_rail_2021.iterrows()):\n",
    "    t = str(row['Lati'] + \", \" + row['Long'])\n",
    "    driver.find_element(By.XPATH, '//*[@id=\"search.keyword.query\"]').send_keys(t)\n",
    "    driver.find_element(By.XPATH,'//*[@id=\"search.keyword.submit\"]').send_keys(Keys.RETURN)\n",
    "    time.sleep(2)\n",
    "    \n",
    "    try:\n",
    "        s = driver.find_element(By.XPATH, '//*[@id=\"localInfo.map\"]/div[1]').text\n",
    "        g = driver.find_element(By.XPATH, '//*[@id=\"localInfo.map\"]/div[2]').text\n",
    "        d = driver.find_element(By.XPATH, '//*[@id=\"localInfo.map\"]/div[3]').text\n",
    "     \n",
    "    except:\n",
    "        s = \"1\"\n",
    "        g = \"1\"\n",
    "        d = \"1\"\n",
    "        \n",
    "    list_1.append(s) \n",
    "    list_2.append(g) \n",
    "    list_3.append(d) \n",
    "    list_4.append(row['Lati'])\n",
    "    list_5.append(row['Long'])\n",
    "    list_6.append(row['Stop_ID'])\n",
    "    list_7.append(row['Stop_NM'])\n",
    "     \n",
    "        \n",
    "    driver.find_element(By.XPATH,'//*[@id=\"search.keyword.query\"]').clear()"
   ]
  },
  {
   "cell_type": "code",
   "execution_count": 43,
   "id": "bf0d65e4",
   "metadata": {},
   "outputs": [
    {
     "data": {
      "text/html": [
       "<div>\n",
       "<style scoped>\n",
       "    .dataframe tbody tr th:only-of-type {\n",
       "        vertical-align: middle;\n",
       "    }\n",
       "\n",
       "    .dataframe tbody tr th {\n",
       "        vertical-align: top;\n",
       "    }\n",
       "\n",
       "    .dataframe thead th {\n",
       "        text-align: right;\n",
       "    }\n",
       "</style>\n",
       "<table border=\"1\" class=\"dataframe\">\n",
       "  <thead>\n",
       "    <tr style=\"text-align: right;\">\n",
       "      <th></th>\n",
       "      <th>시/도</th>\n",
       "      <th>시/군/구</th>\n",
       "      <th>동</th>\n",
       "      <th>Lati</th>\n",
       "      <th>Long</th>\n",
       "    </tr>\n",
       "  </thead>\n",
       "  <tbody>\n",
       "    <tr>\n",
       "      <th>0</th>\n",
       "      <td>서울특별시</td>\n",
       "      <td>중구</td>\n",
       "      <td>회현동</td>\n",
       "      <td>37.55587</td>\n",
       "      <td>126.9721</td>\n",
       "    </tr>\n",
       "    <tr>\n",
       "      <th>1</th>\n",
       "      <td>서울특별시</td>\n",
       "      <td>중구</td>\n",
       "      <td>소공동</td>\n",
       "      <td>37.56571</td>\n",
       "      <td>126.97712</td>\n",
       "    </tr>\n",
       "    <tr>\n",
       "      <th>2</th>\n",
       "      <td>서울특별시</td>\n",
       "      <td>종로구</td>\n",
       "      <td>종로1.2.3.4가동</td>\n",
       "      <td>37.57016</td>\n",
       "      <td>126.98292</td>\n",
       "    </tr>\n",
       "    <tr>\n",
       "      <th>3</th>\n",
       "      <td>서울특별시</td>\n",
       "      <td>종로구</td>\n",
       "      <td>종로1.2.3.4가동</td>\n",
       "      <td>37.57042</td>\n",
       "      <td>126.99211</td>\n",
       "    </tr>\n",
       "    <tr>\n",
       "      <th>4</th>\n",
       "      <td>서울특별시</td>\n",
       "      <td>종로구</td>\n",
       "      <td>종로5.6가동</td>\n",
       "      <td>37.57093</td>\n",
       "      <td>127.00185</td>\n",
       "    </tr>\n",
       "    <tr>\n",
       "      <th>...</th>\n",
       "      <td>...</td>\n",
       "      <td>...</td>\n",
       "      <td>...</td>\n",
       "      <td>...</td>\n",
       "      <td>...</td>\n",
       "    </tr>\n",
       "    <tr>\n",
       "      <th>1074</th>\n",
       "      <td>경기도</td>\n",
       "      <td>하남시</td>\n",
       "      <td>덕풍3동</td>\n",
       "      <td>37.55215</td>\n",
       "      <td>127.203927</td>\n",
       "    </tr>\n",
       "    <tr>\n",
       "      <th>1075</th>\n",
       "      <td>경기도</td>\n",
       "      <td>하남시</td>\n",
       "      <td>덕풍3동</td>\n",
       "      <td>37.541913</td>\n",
       "      <td>127.206404</td>\n",
       "    </tr>\n",
       "    <tr>\n",
       "      <th>1076</th>\n",
       "      <td>경기도</td>\n",
       "      <td>하남시</td>\n",
       "      <td>천현동</td>\n",
       "      <td>37.539746</td>\n",
       "      <td>127.223271</td>\n",
       "    </tr>\n",
       "    <tr>\n",
       "      <th>1077</th>\n",
       "      <td>인천광역시</td>\n",
       "      <td>연수구</td>\n",
       "      <td>송도2동</td>\n",
       "      <td>37.406767</td>\n",
       "      <td>126.626094</td>\n",
       "    </tr>\n",
       "    <tr>\n",
       "      <th>1078</th>\n",
       "      <td>부산광역시</td>\n",
       "      <td>동래구</td>\n",
       "      <td>안락2동</td>\n",
       "      <td>35.193697</td>\n",
       "      <td>129.114202</td>\n",
       "    </tr>\n",
       "  </tbody>\n",
       "</table>\n",
       "<p>1079 rows × 5 columns</p>\n",
       "</div>"
      ],
      "text/plain": [
       "        시/도 시/군/구            동       Lati        Long\n",
       "0     서울특별시    중구          회현동   37.55587    126.9721\n",
       "1     서울특별시    중구          소공동   37.56571   126.97712\n",
       "2     서울특별시   종로구  종로1.2.3.4가동   37.57016   126.98292\n",
       "3     서울특별시   종로구  종로1.2.3.4가동   37.57042   126.99211\n",
       "4     서울특별시   종로구      종로5.6가동   37.57093   127.00185\n",
       "...     ...   ...          ...        ...         ...\n",
       "1074    경기도   하남시         덕풍3동   37.55215  127.203927\n",
       "1075    경기도   하남시         덕풍3동  37.541913  127.206404\n",
       "1076    경기도   하남시          천현동  37.539746  127.223271\n",
       "1077  인천광역시   연수구         송도2동  37.406767  126.626094\n",
       "1078  부산광역시   동래구         안락2동  35.193697  129.114202\n",
       "\n",
       "[1079 rows x 5 columns]"
      ]
     },
     "execution_count": 43,
     "metadata": {},
     "output_type": "execute_result"
    }
   ],
   "source": [
    "stop_rail_2020_df = pd.DataFrame(list(zip(list_6, list_7list_1, list_2 , list_3 , list_4, list_5)), \n",
    "                            columns=[\"Stop_ID\", \"Stop_NM\", '시/도',\"시/군/구\", '동', 'Lati', 'Long'])\n",
    "stop_rail_2020_df"
   ]
  },
  {
   "cell_type": "markdown",
   "id": "bbaa3518",
   "metadata": {},
   "source": [
    "### (2) 버스 정류장"
   ]
  },
  {
   "cell_type": "markdown",
   "id": "c7271103",
   "metadata": {},
   "source": [
    "#### 2019년"
   ]
  },
  {
   "cell_type": "code",
   "execution_count": null,
   "id": "c36ae449",
   "metadata": {},
   "outputs": [],
   "source": [
    "Stop_bus_2019['Lati'] = Stop_bus_2019['Lati'].astype(str)\n",
    "Stop_bus_2019['Long'] = Stop_bus_2019['Long'].astype(str)\n",
    "Stop_bus_2019.info()"
   ]
  },
  {
   "cell_type": "code",
   "execution_count": null,
   "id": "0c998a80",
   "metadata": {},
   "outputs": [],
   "source": [
    "list_1 = []\n",
    "list_2 = []\n",
    "list_3 = []\n",
    "list_4 = []\n",
    "list_5 = []\n",
    "list_6 = []\n",
    "list_7 = []\n",
    "\n",
    "\n",
    "for idx, row in tqdm(Stop_rail_2019.iterrows()):\n",
    "    t = str(row['Lati'] + \", \" + row['Long'])\n",
    "    driver.find_element(By.XPATH, '//*[@id=\"search.keyword.query\"]').send_keys(t)\n",
    "    driver.find_element(By.XPATH,'//*[@id=\"search.keyword.submit\"]').send_keys(Keys.RETURN)\n",
    "    time.sleep(2)\n",
    "    \n",
    "    try:\n",
    "        s = driver.find_element(By.XPATH, '//*[@id=\"localInfo.map\"]/div[1]').text\n",
    "        g = driver.find_element(By.XPATH, '//*[@id=\"localInfo.map\"]/div[2]').text\n",
    "        d = driver.find_element(By.XPATH, '//*[@id=\"localInfo.map\"]/div[3]').text\n",
    "     \n",
    "    except:\n",
    "        s = \"1\"\n",
    "        g = \"1\"\n",
    "        d = \"1\"\n",
    "        \n",
    "    list_1.append(s) \n",
    "    list_2.append(g) \n",
    "    list_3.append(d) \n",
    "    list_4.append(row['Lati'])\n",
    "    list_5.append(row['Long'])\n",
    "    list_6.append(row['Stop_ID'])\n",
    "    list_7.append(row['Stop_NM'])\n",
    "     \n",
    "        \n",
    "    driver.find_element(By.XPATH,'//*[@id=\"search.keyword.query\"]').clear()"
   ]
  },
  {
   "cell_type": "code",
   "execution_count": null,
   "id": "cfbf0907",
   "metadata": {},
   "outputs": [],
   "source": [
    "stop_bus_2019_df = pd.DataFrame(list(zip(list_6, list_7list_1, list_2 , list_3 , list_4, list_5)), \n",
    "                            columns=[\"Stop_ID\", \"Stop_NM\", '시/도',\"시/군/구\", '동', 'Lati', 'Long'])\n",
    "stop_bus_2019_df"
   ]
  },
  {
   "cell_type": "markdown",
   "id": "9fddaa98",
   "metadata": {},
   "source": [
    "#### 2020년"
   ]
  },
  {
   "cell_type": "code",
   "execution_count": null,
   "id": "edeb58da",
   "metadata": {},
   "outputs": [],
   "source": [
    "Stop_bus_2020['Lati'] = Stop_bus_2020['Lati'].astype(str)\n",
    "Stop_bus_2020['Long'] = Stop_bus_2020['Long'].astype(str)\n",
    "Stop_bus_2020.info()"
   ]
  },
  {
   "cell_type": "code",
   "execution_count": null,
   "id": "b7e7e7e4",
   "metadata": {},
   "outputs": [],
   "source": [
    "list_1 = []\n",
    "list_2 = []\n",
    "list_3 = []\n",
    "list_4 = []\n",
    "list_5 = []\n",
    "list_6 = []\n",
    "list_7 = []\n",
    "\n",
    "for idx, row in tqdm(Stop_rail_2019.iterrows()):\n",
    "    t = str(row['Lati'] + \", \" + row['Long'])\n",
    "    driver.find_element(By.XPATH, '//*[@id=\"search.keyword.query\"]').send_keys(t)\n",
    "    driver.find_element(By.XPATH,'//*[@id=\"search.keyword.submit\"]').send_keys(Keys.RETURN)\n",
    "    time.sleep(2)\n",
    "    \n",
    "    try:\n",
    "        s = driver.find_element(By.XPATH, '//*[@id=\"localInfo.map\"]/div[1]').text\n",
    "        g = driver.find_element(By.XPATH, '//*[@id=\"localInfo.map\"]/div[2]').text\n",
    "        d = driver.find_element(By.XPATH, '//*[@id=\"localInfo.map\"]/div[3]').text\n",
    "     \n",
    "    except:\n",
    "        s = \"1\"\n",
    "        g = \"1\"\n",
    "        d = \"1\"\n",
    "        \n",
    "    list_1.append(s) \n",
    "    list_2.append(g) \n",
    "    list_3.append(d) \n",
    "    list_4.append(row['Lati'])\n",
    "    list_5.append(row['Long'])\n",
    "    list_6.append(row['Stop_ID'])\n",
    "    list_7.append(row['Stop_NM'])\n",
    "     \n",
    "        \n",
    "    driver.find_element(By.XPATH,'//*[@id=\"search.keyword.query\"]').clear()"
   ]
  },
  {
   "cell_type": "code",
   "execution_count": null,
   "id": "2b4f3661",
   "metadata": {},
   "outputs": [],
   "source": [
    "stop_bus_2020_df = pd.DataFrame(list(zip(list_6, list_7list_1, list_2 , list_3 , list_4, list_5)), \n",
    "                            columns=[\"Stop_ID\", \"Stop_NM\", '시/도',\"시/군/구\", '동', 'Lati', 'Long'])\n",
    "stop_bus_2020_df"
   ]
  },
  {
   "cell_type": "markdown",
   "id": "42b579af",
   "metadata": {},
   "source": [
    "#### 2021년"
   ]
  },
  {
   "cell_type": "code",
   "execution_count": null,
   "id": "4b0faf96",
   "metadata": {},
   "outputs": [],
   "source": [
    "Stop_bus_2021['Lati'] = Stop_bus_2021['Lati'].astype(str)\n",
    "Stop_bus_2021['Long'] = Stop_bus_2021['Long'].astype(str)\n",
    "Stop_bus_2021.info()"
   ]
  },
  {
   "cell_type": "code",
   "execution_count": null,
   "id": "a25638fa",
   "metadata": {},
   "outputs": [],
   "source": [
    "list_1 = []\n",
    "list_2 = []\n",
    "list_3 = []\n",
    "list_4 = []\n",
    "list_5 = []\n",
    "list_6 = []\n",
    "list_7 = []\n",
    "\n",
    "for idx, row in tqdm(Stop_rail_2019.iterrows()):\n",
    "    t = str(row['Lati'] + \", \" + row['Long'])\n",
    "    driver.find_element(By.XPATH, '//*[@id=\"search.keyword.query\"]').send_keys(t)\n",
    "    driver.find_element(By.XPATH,'//*[@id=\"search.keyword.submit\"]').send_keys(Keys.RETURN)\n",
    "    time.sleep(2)\n",
    "    \n",
    "    try:\n",
    "        s = driver.find_element(By.XPATH, '//*[@id=\"localInfo.map\"]/div[1]').text\n",
    "        g = driver.find_element(By.XPATH, '//*[@id=\"localInfo.map\"]/div[2]').text\n",
    "        d = driver.find_element(By.XPATH, '//*[@id=\"localInfo.map\"]/div[3]').text\n",
    "     \n",
    "    except:\n",
    "        s = \"1\"\n",
    "        g = \"1\"\n",
    "        d = \"1\"\n",
    "        \n",
    "    list_1.append(s) \n",
    "    list_2.append(g) \n",
    "    list_3.append(d) \n",
    "    list_4.append(row['Lati'])\n",
    "    list_5.append(row['Long'])\n",
    "    list_6.append(row['Stop_ID'])\n",
    "    list_7.append(row['Stop_NM'])\n",
    "     \n",
    "        \n",
    "    driver.find_element(By.XPATH,'//*[@id=\"search.keyword.query\"]').clear()"
   ]
  },
  {
   "cell_type": "code",
   "execution_count": null,
   "id": "5ca6990c",
   "metadata": {},
   "outputs": [],
   "source": [
    "stop_bus_2021_df = pd.DataFrame(list(zip(list_6, list_7list_1, list_2 , list_3 , list_4, list_5)), \n",
    "                            columns=[\"Stop_ID\", \"Stop_NM\", '시/도',\"시/군/구\", '동', 'Lati', 'Long'])\n",
    "stop_bus_2021_df"
   ]
  },
  {
   "cell_type": "markdown",
   "id": "1bcd20d1",
   "metadata": {},
   "source": [
    "---\n",
    "# 3. 통행량 데이터 전처리\n",
    "## 1) 파일 불러오기\n",
    "- glob 모듈 사용\n",
    "- dataframe 형태로 변환\n",
    "- 도착지가 서울, 경기, 인천인 데이터만 추출하여 저장"
   ]
  },
  {
   "cell_type": "code",
   "execution_count": 6,
   "id": "e907a810",
   "metadata": {},
   "outputs": [],
   "source": [
    "od_files_2019 = glob(\"./OD_2019_03/이용객*.xlsx\")\n",
    "od_files_2020 = glob(\"./OD_2020_03/이용객*.xlsx\")\n",
    "od_files_2021 = glob(\"./OD_2021_03/이용객*.xlsx\")\n",
    "\n",
    "tmp_raw = []\n",
    "\n",
    "for file_name in od_files_2019:\n",
    "    tmp = pd.read_excel(file_name, header=0)\n",
    "    tmp_raw.append(tmp)\n",
    "    \n",
    "for file_name in od_files_2020:\n",
    "    tmp = pd.read_excel(file_name, header=0)\n",
    "    tmp_raw.append(tmp)\n",
    "    \n",
    "for file_name in od_files_2021:\n",
    "    tmp = pd.read_excel(file_name, header=0)\n",
    "    tmp_raw.append(tmp)"
   ]
  },
  {
   "cell_type": "code",
   "execution_count": 7,
   "id": "c726b127",
   "metadata": {},
   "outputs": [
    {
     "data": {
      "text/html": [
       "<div>\n",
       "<style scoped>\n",
       "    .dataframe tbody tr th:only-of-type {\n",
       "        vertical-align: middle;\n",
       "    }\n",
       "\n",
       "    .dataframe tbody tr th {\n",
       "        vertical-align: top;\n",
       "    }\n",
       "\n",
       "    .dataframe thead th {\n",
       "        text-align: right;\n",
       "    }\n",
       "</style>\n",
       "<table border=\"1\" class=\"dataframe\">\n",
       "  <thead>\n",
       "    <tr style=\"text-align: right;\">\n",
       "      <th></th>\n",
       "      <th>일자</th>\n",
       "      <th>시도(출발)</th>\n",
       "      <th>시군구(출발)</th>\n",
       "      <th>시도(도착)</th>\n",
       "      <th>시군구(도착)</th>\n",
       "      <th>통행량</th>\n",
       "    </tr>\n",
       "  </thead>\n",
       "  <tbody>\n",
       "    <tr>\n",
       "      <th>0</th>\n",
       "      <td>2019-03-13(수)</td>\n",
       "      <td>서울특별시</td>\n",
       "      <td>강동구</td>\n",
       "      <td>강원도</td>\n",
       "      <td>춘천시</td>\n",
       "      <td>71</td>\n",
       "    </tr>\n",
       "    <tr>\n",
       "      <th>1</th>\n",
       "      <td>2019-03-13(수)</td>\n",
       "      <td>서울특별시</td>\n",
       "      <td>강동구</td>\n",
       "      <td>경기도</td>\n",
       "      <td>가평군</td>\n",
       "      <td>28</td>\n",
       "    </tr>\n",
       "    <tr>\n",
       "      <th>2</th>\n",
       "      <td>2019-03-13(수)</td>\n",
       "      <td>서울특별시</td>\n",
       "      <td>강동구</td>\n",
       "      <td>경기도</td>\n",
       "      <td>고양시</td>\n",
       "      <td>704</td>\n",
       "    </tr>\n",
       "    <tr>\n",
       "      <th>3</th>\n",
       "      <td>2019-03-13(수)</td>\n",
       "      <td>서울특별시</td>\n",
       "      <td>강동구</td>\n",
       "      <td>경기도</td>\n",
       "      <td>과천시</td>\n",
       "      <td>218</td>\n",
       "    </tr>\n",
       "    <tr>\n",
       "      <th>4</th>\n",
       "      <td>2019-03-13(수)</td>\n",
       "      <td>서울특별시</td>\n",
       "      <td>강동구</td>\n",
       "      <td>경기도</td>\n",
       "      <td>광명시</td>\n",
       "      <td>271</td>\n",
       "    </tr>\n",
       "  </tbody>\n",
       "</table>\n",
       "</div>"
      ],
      "text/plain": [
       "              일자 시도(출발) 시군구(출발) 시도(도착) 시군구(도착)  통행량\n",
       "0  2019-03-13(수)  서울특별시     강동구    강원도     춘천시   71\n",
       "1  2019-03-13(수)  서울특별시     강동구    경기도     가평군   28\n",
       "2  2019-03-13(수)  서울특별시     강동구    경기도     고양시  704\n",
       "3  2019-03-13(수)  서울특별시     강동구    경기도     과천시  218\n",
       "4  2019-03-13(수)  서울특별시     강동구    경기도     광명시  271"
      ]
     },
     "execution_count": 7,
     "metadata": {},
     "output_type": "execute_result"
    }
   ],
   "source": [
    "od_raw = pd.concat(tmp_raw)\n",
    "od_df = pd.DataFrame({\"일자\":od_raw[\"일자\"],\n",
    "                        \"시도(출발)\":od_raw[\"시도(출발)\"].str.strip(),\n",
    "                        \"시군구(출발)\":od_raw[\"시군구(출발)\"].str.strip(),\n",
    "                        \"시도(도착)\":od_raw[\"시도(도착)\"].str.strip(),\n",
    "                        \"시군구(도착)\":od_raw[\"시군구(도착)\"].str.strip(),\n",
    "                         \"통행량\":od_raw[\"통행량\"]})\n",
    "od_df.head()"
   ]
  },
  {
   "cell_type": "code",
   "execution_count": 8,
   "id": "93b6f617",
   "metadata": {},
   "outputs": [
    {
     "data": {
      "application/vnd.jupyter.widget-view+json": {
       "model_id": "9ad87f3345c34798b3a929b95f331ae0",
       "version_major": 2,
       "version_minor": 0
      },
      "text/plain": [
       "0it [00:00, ?it/s]"
      ]
     },
     "metadata": {},
     "output_type": "display_data"
    },
    {
     "data": {
      "text/html": [
       "<div>\n",
       "<style scoped>\n",
       "    .dataframe tbody tr th:only-of-type {\n",
       "        vertical-align: middle;\n",
       "    }\n",
       "\n",
       "    .dataframe tbody tr th {\n",
       "        vertical-align: top;\n",
       "    }\n",
       "\n",
       "    .dataframe thead th {\n",
       "        text-align: right;\n",
       "    }\n",
       "</style>\n",
       "<table border=\"1\" class=\"dataframe\">\n",
       "  <thead>\n",
       "    <tr style=\"text-align: right;\">\n",
       "      <th></th>\n",
       "      <th>일자</th>\n",
       "      <th>시도(출발)</th>\n",
       "      <th>시군구(출발)</th>\n",
       "      <th>시도(도착)</th>\n",
       "      <th>시군구(도착)</th>\n",
       "      <th>통행량</th>\n",
       "    </tr>\n",
       "  </thead>\n",
       "  <tbody>\n",
       "    <tr>\n",
       "      <th>0</th>\n",
       "      <td>2019-03</td>\n",
       "      <td>서울특별시</td>\n",
       "      <td>강동구</td>\n",
       "      <td>강원도</td>\n",
       "      <td>춘천시</td>\n",
       "      <td>71</td>\n",
       "    </tr>\n",
       "    <tr>\n",
       "      <th>1</th>\n",
       "      <td>2019-03</td>\n",
       "      <td>서울특별시</td>\n",
       "      <td>강동구</td>\n",
       "      <td>경기도</td>\n",
       "      <td>가평군</td>\n",
       "      <td>28</td>\n",
       "    </tr>\n",
       "    <tr>\n",
       "      <th>2</th>\n",
       "      <td>2019-03</td>\n",
       "      <td>서울특별시</td>\n",
       "      <td>강동구</td>\n",
       "      <td>경기도</td>\n",
       "      <td>고양시</td>\n",
       "      <td>704</td>\n",
       "    </tr>\n",
       "    <tr>\n",
       "      <th>3</th>\n",
       "      <td>2019-03</td>\n",
       "      <td>서울특별시</td>\n",
       "      <td>강동구</td>\n",
       "      <td>경기도</td>\n",
       "      <td>과천시</td>\n",
       "      <td>218</td>\n",
       "    </tr>\n",
       "    <tr>\n",
       "      <th>4</th>\n",
       "      <td>2019-03</td>\n",
       "      <td>서울특별시</td>\n",
       "      <td>강동구</td>\n",
       "      <td>경기도</td>\n",
       "      <td>광명시</td>\n",
       "      <td>271</td>\n",
       "    </tr>\n",
       "  </tbody>\n",
       "</table>\n",
       "</div>"
      ],
      "text/plain": [
       "        일자 시도(출발) 시군구(출발) 시도(도착) 시군구(도착)  통행량\n",
       "0  2019-03  서울특별시     강동구    강원도     춘천시   71\n",
       "1  2019-03  서울특별시     강동구    경기도     가평군   28\n",
       "2  2019-03  서울특별시     강동구    경기도     고양시  704\n",
       "3  2019-03  서울특별시     강동구    경기도     과천시  218\n",
       "4  2019-03  서울특별시     강동구    경기도     광명시  271"
      ]
     },
     "execution_count": 8,
     "metadata": {},
     "output_type": "execute_result"
    }
   ],
   "source": [
    "od_df.reset_index(inplace=True, drop=True)\n",
    "\n",
    "for idx, row in tqdm(od_df.iterrows()):\n",
    "    od_df.iloc[idx, 0] = row[\"일자\"][:-6]\n",
    "    \n",
    "od_df.head()"
   ]
  },
  {
   "cell_type": "code",
   "execution_count": 9,
   "id": "e04d1ba8",
   "metadata": {},
   "outputs": [
    {
     "name": "stdout",
     "output_type": "stream",
     "text": [
      "<class 'pandas.core.frame.DataFrame'>\n",
      "RangeIndex: 12411 entries, 0 to 12410\n",
      "Data columns (total 6 columns):\n",
      " #   Column   Non-Null Count  Dtype \n",
      "---  ------   --------------  ----- \n",
      " 0   일자       12411 non-null  object\n",
      " 1   시도(출발)   12411 non-null  object\n",
      " 2   시군구(출발)  12411 non-null  object\n",
      " 3   시도(도착)   12411 non-null  object\n",
      " 4   시군구(도착)  12411 non-null  object\n",
      " 5   통행량      12411 non-null  int64 \n",
      "dtypes: int64(1), object(5)\n",
      "memory usage: 581.9+ KB\n"
     ]
    }
   ],
   "source": [
    "od_df = od_df[od_df['시도(도착)'].isin(['서울특별시', '인천광역시', '경기도'])]\n",
    "od_df.reset_index(drop=True, inplace=True)\n",
    "od_df.info()"
   ]
  },
  {
   "cell_type": "markdown",
   "id": "8bf8d3d6",
   "metadata": {},
   "source": [
    "## 2) 피벗테이블 만들기\n",
    "- 통행량은 쌍방.\n",
    "- 시작, 도착 지점이 같으면 합쳐줘야한다"
   ]
  },
  {
   "cell_type": "code",
   "execution_count": null,
   "id": "4e3d9246",
   "metadata": {},
   "outputs": [],
   "source": [
    "order_list = ['경기도 가평군', '경기도 고양시', '경기도 과천시', '경기도 광명시', '경기도 광주시', '경기도 구리시',\n",
    "       '경기도 군포시', '경기도 김포시', '경기도 남양주시', '경기도 동두천시', '경기도 부천시', '경기도 성남시 ',\n",
    "       '경기도 수원시 ', '경기도 시흥시', '경기도 안산시 ', '경기도 안성시', '경기도 안양시 ', '경기도 양주시',\n",
    "       '경기도 양평군', '경기도 여주시', '경기도 연천군', '경기도 오산시', '경기도 용인시 ', '경기도 의왕시',\n",
    "       '경기도 의정부시', '경기도 이천시', '경기도 파주시', '경기도 평택시', '경기도 포천시', '경기도 하남시',\n",
    "       '경기도 화성시', '서울특별시 강남구', '서울특별시 강동구', '서울특별시 강북구', '서울특별시 강서구',\n",
    "       '서울특별시 관악구', '서울특별시 광진구', '서울특별시 구로구', '서울특별시 금천구', '서울특별시 노원구',\n",
    "       '서울특별시 도봉구', '서울특별시 동대문구', '서울특별시 동작구', '서울특별시 마포구', '서울특별시 서대문구',\n",
    "       '서울특별시 서초구', '서울특별시 성동구', '서울특별시 성북구', '서울특별시 송파구', '서울특별시 양천구',\n",
    "       '서울특별시 영등포구', '서울특별시 용산구', '서울특별시 은평구', '서울특별시 종로구', '서울특별시 중구',\n",
    "       '서울특별시 중랑구', '인천광역시 강화군', '인천광역시 계양구', '인천광역시 남동구', '인천광역시 동구',\n",
    "       '인천광역시 미추홀구', '인천광역시 부평구', '인천광역시 서구', '인천광역시 연수구', '인천광역시 중구', \n",
    "              '인천광역시 옹진군']\n",
    "\n",
    "o_li = [i.strip() for i in order_list]"
   ]
  },
  {
   "cell_type": "code",
   "execution_count": null,
   "id": "6b062874",
   "metadata": {},
   "outputs": [],
   "source": [
    "for i in range(2019,2022):\n",
    "    st_df = pd.DataFrame(pd.pivot_table(data=od_df[od_df['일자'] == \"{yr}-03\".format(yr=i)], \n",
    "                                        index=[\"시도(출발)\", \"시군구(출발)\"], \n",
    "                                        columns=[\"시도(도착)\", \"시군구(도착)\"],\n",
    "                                        values=\"통행량\", aggfunc=np.sum, fill_value=0))\n",
    "\n",
    "    s_tmp1 = [\n",
    "        st_df.columns.get_level_values(0)[n] \n",
    "        +\" \"+ st_df.columns.get_level_values(1)[n]\n",
    "        for n in range(0, len(st_df.columns.get_level_values(0)))]\n",
    "\n",
    "\n",
    "    s_tmp2 = [\n",
    "        st_df.index.get_level_values(0)[n] \n",
    "        +\" \"+ st_df.index.get_level_values(1)[n]\n",
    "        for n in range(0, len(st_df.index.get_level_values(0)))]\n",
    "\n",
    "    st_df.columns = s_tmp1\n",
    "    st_df.index = s_tmp2\n",
    "\n",
    "\n",
    "    ed_df = pd.DataFrame(pd.pivot_table(data=od_df[od_df['일자'] == \"{yr}-03\".format(yr=i)], \n",
    "                   index=[\"시도(도착)\", \"시군구(도착)\"],\n",
    "                   columns=[\"시도(출발)\", \"시군구(출발)\"],             \n",
    "                   values=\"통행량\", aggfunc=np.sum, fill_value=0))\n",
    "\n",
    "\n",
    "    e_tmp1 = [\n",
    "        ed_df.columns.get_level_values(0)[n] \n",
    "        +\" \"+ ed_df.columns.get_level_values(1)[n]\n",
    "        for n in range(0, len(ed_df.columns.get_level_values(0)))]\n",
    "\n",
    "\n",
    "    e_tmp2 = [\n",
    "        ed_df.index.get_level_values(0)[n] \n",
    "        +\" \"+ ed_df.index.get_level_values(1)[n]\n",
    "        for n in range(0, len(ed_df.index.get_level_values(0)))]\n",
    "\n",
    "    ed_df.columns = e_tmp1\n",
    "    ed_df.index = e_tmp2\n",
    "\n",
    "    st_df = st_df[o_li]\n",
    "    st_df.reindex(o_li)\n",
    "\n",
    "    ed_df = ed_df[o_li]\n",
    "    ed_df.reindex(o_li)\n",
    "\n",
    "    tmp_df = st_df + ed_df\n",
    "    tmp_df.to_excel('./day/{y}년통행량.xlsx'.format(y=i), encoding='utf-8')"
   ]
  },
  {
   "cell_type": "markdown",
   "id": "8169da02",
   "metadata": {},
   "source": [
    "## 3) 피벗테이블의 인덱스, 컬럼명, 값 을 하나의 열로 갖는 DataFrame 만들기\n",
    "- 시각화, merge 등을 위해 필요한 형태로 만든다.\n",
    "- 모든 연도를 다 해준다,"
   ]
  },
  {
   "cell_type": "code",
   "execution_count": null,
   "id": "daee5baa",
   "metadata": {},
   "outputs": [],
   "source": [
    "pass_2021 = pd.read_excel('./2021년통행량.', index_col=0)\n",
    "pass_2021.reset_index(inplace=True)\n",
    "\n",
    "li_1 = []\n",
    "li_2 = []\n",
    "li_3 = []\n",
    "for idx, row in tqdm(pass_2021.iterrows()):\n",
    "    for r in o_li:\n",
    "        li_1.append(row[\"index\"])\n",
    "        li_2.append(r)\n",
    "        li_3.append(row[r])\n",
    "        \n",
    "pas_21 = pd.DataFrame(list(zip(li_1, li_2, li_3)), columns=['출발지', '도착지', '통행량'])\n",
    "\n",
    "d_li = []\n",
    "for idx, row in pas_21.iterrows():\n",
    "    if row['출발지'] == row['도착지']:\n",
    "        d_li.append(idx)\n",
    "        \n",
    "pas_21.drop(d_li, inplace=True)\n",
    "pas_21.reset_index(drop=True, inplace=True)\n",
    "pas_21"
   ]
  },
  {
   "cell_type": "code",
   "execution_count": null,
   "id": "b84981dc",
   "metadata": {},
   "outputs": [],
   "source": [
    "pass_2020 = pd.read_excel('./day/2020년통행량.', index_col=0)\n",
    "pass_2020.reset_index(inplace=True)\n",
    "pass_2020.head()\n",
    "\n",
    "li_1 = []\n",
    "li_2 = []\n",
    "li_3 = []\n",
    "for idx, row in tqdm(pass_2020.iterrows()):\n",
    "    for r in o_li:\n",
    "        li_1.append(row[\"index\"])\n",
    "        li_2.append(r)\n",
    "        li_3.append(row[r])\n",
    "        \n",
    "pas_20 = pd.DataFrame(list(zip(li_1, li_2, li_3)), columns=['출발지', '도착지', '통행량'])\n",
    "pas_20.head(10)\n",
    "\n",
    "d_li = []\n",
    "for idx, row in pas_20.iterrows():\n",
    "    if row['출발지'] == row['도착지']:\n",
    "        d_li.append(idx)\n",
    "        \n",
    "pas_20.drop(d_li, inplace=True)\n",
    "pas_20.reset_index(drop=True, inplace=True)\n",
    "pas_20"
   ]
  },
  {
   "cell_type": "code",
   "execution_count": null,
   "id": "172512d2",
   "metadata": {},
   "outputs": [],
   "source": [
    "pass_2019 = pd.read_excel('./day/2019년통행량.', index_col=0)\n",
    "pass_2019.reset_index(inplace=True)\n",
    "pass_2019.head()\n",
    "\n",
    "li_1 = []\n",
    "li_2 = []\n",
    "li_3 = []\n",
    "for idx, row in pass_2019.iterrows():\n",
    "    for r in o_li:\n",
    "        li_1.append(row[\"index\"])\n",
    "        li_2.append(r)\n",
    "        li_3.append(row[r])\n",
    "        \n",
    "pas_19 = pd.DataFrame(list(zip(li_1, li_2, li_3)), columns=['출발지', '도착지', '통행량'])\n",
    "pas_19.head(10)\n",
    "\n",
    "d_li = []\n",
    "for idx, row in pas_19.iterrows():\n",
    "    if row['출발지'] == row['도착지']:\n",
    "        d_li.append(idx)\n",
    "        \n",
    "pas_19.drop(d_li, inplace=True)\n",
    "pas_19.reset_index(drop=True, inplace=True)\n",
    "pas_19"
   ]
  },
  {
   "cell_type": "markdown",
   "id": "52072245",
   "metadata": {},
   "source": [
    "---\n",
    "# 4. 버스 데이터 전처리\n",
    "\n",
    "## 1) 크롤링으로 수집한 주소 데이터 정리\n",
    "- 서울, 경기, 인천에 위치한 정류장만 추출"
   ]
  },
  {
   "cell_type": "code",
   "execution_count": null,
   "id": "8c7fafab",
   "metadata": {},
   "outputs": [],
   "source": [
    "bus_stop = pd.read_excel('./.xlsx', index_col=0)\n",
    "bus_stop = bus_stop[bus_stop['광역시/도'].isin(['서울특별시', '인천광역시', '경기도'])].reset_index(drop=True)\n",
    "bus_stop"
   ]
  },
  {
   "cell_type": "markdown",
   "id": "3795742d",
   "metadata": {},
   "source": [
    "## 2) 지역 컬럼 만들기\n",
    "- 통행량 데이터의 지역구분에 따른다\n",
    "- 크롤링으로 구한 지하철역의 주소 데이터 사용\n",
    "- 지역 컬럼에 서울시 OO구, 인천광역시 OO구/군, 경기도 OO구/군 형식으로 저장"
   ]
  },
  {
   "cell_type": "code",
   "execution_count": null,
   "id": "631722d7",
   "metadata": {},
   "outputs": [],
   "source": [
    "bus_stop['지역'] = bus_stop['광역시/도'] + \" \" + bus_stop['시/군']\n",
    "bus_stop = bus_stop[bus_stop[\"지역\"].isin(o_li)]\n",
    "bus_stop"
   ]
  },
  {
   "cell_type": "markdown",
   "id": "c7a28c5f",
   "metadata": {},
   "source": [
    "## 3) 정류장별 버스 노선\n",
    "\n",
    "- RouteStop 과 Stop 파일을 merge하여 각 정류장에 서는 버스를 알아낸다.\n",
    "- RouteStop 에서 Stop_YN = TRUE 인 데이터만 사용한다.(경유하는건 사용하지 않는다)\n",
    "- 버스번호는 \"RT_NM\" 인데, Stop 과 RouteStop 에는 없어서,,, 다시 Route와 merge한다\n",
    "- bus_stop 데이터를 이용해 서울경기인천 내 정류장들만 추출"
   ]
  },
  {
   "cell_type": "code",
   "execution_count": null,
   "id": "3b44f1e0",
   "metadata": {},
   "outputs": [],
   "source": [
    "s_list = list(bus_stop['Stop_NM'].unique())"
   ]
  },
  {
   "cell_type": "code",
   "execution_count": null,
   "id": "188a1940",
   "metadata": {},
   "outputs": [],
   "source": [
    "line_2021 = pd.merge(Stop_bus_2021, RouteStop_bus_2021[RouteStop_bus_2021[\"Stop_YN\"] == \"Y\"], on=\"Stop_ID\", how=\"right\")\n",
    "line_2021.drop(columns=['Data_SEQ_x', 'Data_SEQ_y', 'Month_x', 'Month_y', \"RT_Stop_Ord\",\"Stop_YN\",\"Turn_CA\"], inplace=True)\n",
    "line_2021 = pd.merge(line_2021, Route_bus_2021, left_on=\"RT_ID\", right_on=\"RT_ID\", how=\"left\")\n",
    "line_2021.drop(columns=['Month','MTC_Region', 'Data_SEQ', \"RT_Desc\", \"RT_Group\", \"Region_CD\"], inplace=True)\n",
    "line_2021 = line_2021[line_2021['Stop_NM'].isin(s_list)]\n",
    "line_21 = pd.DataFrame(pd.pivot_table(line_2021, index=['Stop_ID', 'Stop_NM', \"RT_ID\", \"RT_NM\"], values='Start', aggfunc=len)).reset_index()\n",
    "line_21.drop(columns=['Start'], inplace=True)\n",
    "line_21"
   ]
  },
  {
   "cell_type": "code",
   "execution_count": null,
   "id": "60216926",
   "metadata": {},
   "outputs": [],
   "source": [
    "line_2020 = pd.merge(Stop_bus_2020, RouteStop_bus_2020[RouteStop_bus_2020[\"Stop_YN\"] == \"Y\"], on=\"Stop_ID\", how=\"right\")\n",
    "line_2020.drop(columns=['Data_SEQ_x', 'Data_SEQ_y', 'Month_x', 'Month_y', \"RT_Stop_Ord\",\"Stop_YN\",\"Turn_CA\"], inplace=True)\n",
    "line_2020 = pd.merge(line_2020, Route_bus_2020, left_on=\"RT_ID\", right_on=\"RT_ID\", how=\"left\")\n",
    "line_2020.drop(columns=['Month','MTC_Region', 'Data_SEQ', \"RT_Desc\", \"RT_Group\", \"Region_CD\",\"Region_NM\"], inplace=True)\n",
    "line_2020 = line_2020[line_2020['Stop_NM'].isin(s_list)]\n",
    "line_20 = pd.DataFrame(pd.pivot_table(line_2020, index=['Stop_ID', 'Stop_NM', \"RT_ID\", \"RT_NM\"], values='Start', aggfunc=len)).reset_index()\n",
    "line_20.drop(columns=['Start'], inplace=True)\n",
    "line_20"
   ]
  },
  {
   "cell_type": "code",
   "execution_count": null,
   "id": "7b6c2ff0",
   "metadata": {},
   "outputs": [],
   "source": [
    "line_2019 = pd.merge(Stop_bus_2019, RouteStop_bus_2019[RouteStop_bus_2019[\"Stop_YN\"] == \"Y\"], on=\"Stop_ID\", how=\"right\")\n",
    "line_2019.drop(columns=['Data_SEQ_x', 'Data_SEQ_y', 'Month_x', 'Month_y', \"RT_Stop_Ord\",\"Stop_YN\",\"Turn_CA\"], inplace=True)\n",
    "line_2019 = pd.merge(line_2019, Route_bus_2019, left_on=\"RT_ID\", right_on=\"RT_ID\", how=\"left\")\n",
    "line_2019.drop(columns=['Month','MTC_Region', 'Data_SEQ', \"RT_Desc\", \"RT_Group\", \"Region_CD\",\"Region_NM\"], inplace=True)\n",
    "line_2019 = line_2019[line_2019['Stop_NM'].isin(s_list)]\n",
    "line_19 = pd.DataFrame(pd.pivot_table(line_2019, index=['Stop_ID', 'Stop_NM', \"RT_ID\", \"RT_NM\"], values='Start', aggfunc=len)).reset_index()\n",
    "line_19.drop(columns=['Start'], inplace=True)\n",
    "line_19"
   ]
  },
  {
   "cell_type": "markdown",
   "id": "c258529a",
   "metadata": {},
   "source": [
    "## 4) 노선별 운행횟수\n",
    "- 정류장별로 서는 노선의 하루 운행 회수를 정차시각이 있는 StopTime 데이터를 사용해 구했다.\n",
    "- StopTime 에는 정류장 정보가 없어서, Stop_rail 데이터와 병합해서 사용했다.\n",
    "```\n",
    "1) Stop_rail과 StopTime 데이터를 \"Stop_ID\" 를 기준으로 병합\n",
    "2) 필요없는 컬럼 제거\n",
    "3) 피벗테이블을 사용해 노선별 운행 회수 계산\n",
    "```"
   ]
  },
  {
   "cell_type": "code",
   "execution_count": null,
   "id": "c7270977",
   "metadata": {},
   "outputs": [],
   "source": [
    "me_2021 = pd.merge(Stop_bus_2021, StopTime_bus_2021, left_on=\"Stop_ID\", right_on=\"Stop_ID\", how=\"right\")\n",
    "bus_stop_count_2021 = pd.DataFrame(pd.pivot_table(data=me_2021, index=['Stop_ID', 'Stop_NM', \"RT_ID\"],values=\"ARS_ID\",aggfunc=len)).reset_index()\n",
    "bus_stop_count_2021.rename(columns = {'ARS_ID':'운행횟수'}, inplace = True)\n",
    "bus_stop_count_2021"
   ]
  },
  {
   "cell_type": "code",
   "execution_count": null,
   "id": "be4cb081",
   "metadata": {},
   "outputs": [],
   "source": [
    "me_2020 = pd.merge(Stop_bus_2020, StopTime_bus_2020, left_on=\"Stop_ID\", right_on=\"Stop_ID\", how=\"right\")\n",
    "bus_stop_count_2020 = pd.DataFrame(pd.pivot_table(data=me_2020, index=['Stop_ID', 'Stop_NM', \"RT_ID\"],values=\"ARS_ID\",aggfunc=len)).reset_index()\n",
    "bus_stop_count_2020.rename(columns = {'ARS_ID':'운행횟수'}, inplace = True)\n",
    "bus_stop_count_2020"
   ]
  },
  {
   "cell_type": "code",
   "execution_count": null,
   "id": "5f5e1ea2",
   "metadata": {},
   "outputs": [],
   "source": [
    "me_2019 = pd.merge(Stop_bus_2019, StopTime_bus_2019, left_on=\"Stop_ID\", right_on=\"Stop_ID\", how=\"right\")\n",
    "bus_stop_count_2019 = pd.DataFrame(pd.pivot_table(data=me_2019, index=['Stop_ID', 'Stop_NM', \"RT_ID\"],values=\"ARS_ID\",aggfunc=len)).reset_index()\n",
    "bus_stop_count_2019.rename(columns = {'ARS_ID':'운행횟수'}, inplace = True)\n",
    "bus_stop_count_2019"
   ]
  },
  {
   "cell_type": "markdown",
   "id": "26670587",
   "metadata": {},
   "source": [
    "## 5) 데이터 합치기(연도별로)\n",
    "- 위에서 만든 모든 파일을 지하철 역명을 기준으로 합쳐준다."
   ]
  },
  {
   "cell_type": "code",
   "execution_count": null,
   "id": "8adf98d7",
   "metadata": {},
   "outputs": [],
   "source": [
    "stop_time = pd.merge(bus_stop_count_2021, line_21, on=['Stop_ID', 'Stop_NM', \"RT_ID\"], how='outer')\n",
    "bus_2021 = pd.merge(stop_time, bus_stop, on=\"Stop_NM\", how=\"left\")\n",
    "bus_2021.head(2)"
   ]
  },
  {
   "cell_type": "code",
   "execution_count": null,
   "id": "ff3e1590",
   "metadata": {},
   "outputs": [],
   "source": [
    "stop_time20 = pd.merge(bus_stop_count_2020, line_20, on=['Stop_ID', 'Stop_NM', \"RT_ID\"], how='outer')\n",
    "bus_2020 = pd.merge(stop_time20, bus_stop, on=\"Stop_NM\", how=\"left\")\n",
    "bus_2020.head(2)"
   ]
  },
  {
   "cell_type": "code",
   "execution_count": null,
   "id": "b5525e54",
   "metadata": {},
   "outputs": [],
   "source": [
    "stop_time19 = pd.merge(bus_stop_count_2019, line_19, on=['Stop_ID', 'Stop_NM', \"RT_ID\"], how='outer')\n",
    "bus_2019 = pd.merge(stop_time19, bus_stop, on=\"Stop_NM\", how=\"left\")\n",
    "bus_2019.head(2)"
   ]
  },
  {
   "cell_type": "markdown",
   "id": "378483eb",
   "metadata": {},
   "source": [
    "## 6) 출발지-도착지 별 버스번호와 운행횟수 구하기\n",
    "- 버스운행 컬럼 : 출발지-도착지 간 버스의 운송량\n",
    "- 버스정원을 45명(광역버스 기준)으로 두고 계산"
   ]
  },
  {
   "cell_type": "code",
   "execution_count": null,
   "id": "ea8c99d3",
   "metadata": {},
   "outputs": [],
   "source": [
    "tmp_bus_2021 = pd.pivot_table(data=bus_2021, index=['지역',\"광역시/도\", 'RT_ID', \"RT_NM\", \"운행횟수\"], values=\"Lati\", aggfunc=len)\n",
    "tmp_bus_2021.reset_index(inplace=True)\n",
    "tmp_bus_2021 # Lati는 의미없음\n",
    "\n",
    "li_1 = []\n",
    "li_2 = []\n",
    "li_3 = []\n",
    "li_4 = []\n",
    "li_5 = []\n",
    "li_6 = []\n",
    "\n",
    "for idx, row in tqdm(tmp_bus_2021.iterrows()):\n",
    "    tmp_list = list(set(bus_2021[bus_2021[\"RT_ID\"] == row['RT_ID']]['지역']))\n",
    "    for i in tmp_list:\n",
    "        li_1.append(row['지역'].strip())\n",
    "        li_2.append(i)\n",
    "        li_3.append(row['RT_NM'])\n",
    "        li_4.append(row['RT_ID'])\n",
    "        li_5.append(row['광역시/도'].strip())\n",
    "        li_6.append(row['운행횟수'])\n",
    "        \n",
    "bus21 = pd.DataFrame(list(zip(li_5, li_1, li_2, li_3, li_4, li_6)), \n",
    "                   columns=[\"광역시/도(출발)\", '출발지', '도착지', '버스번호', \"RT_ID\", \"운행횟수\"])\n",
    "\n",
    "bus21 = bus21[~bus21['도착지'].isna()]\n",
    "bus21['버스운행'] = bus21['운행횟수'] * 45\n",
    "bus21"
   ]
  },
  {
   "cell_type": "code",
   "execution_count": null,
   "id": "abc40027",
   "metadata": {},
   "outputs": [],
   "source": [
    "bus_2020 = bus_2020[~bus_2020.duplicated(subset=[\"Stop_ID\", \"RT_ID\"])]\n",
    "bus_2020.head()\n",
    "\n",
    "tmp_bus_2020 = pd.pivot_table(data=bus_2020, index=['지역',\"광역시/도\", 'RT_ID', \"RT_NM\", \"운행횟수\"], \n",
    "                              values=\"Lati\", aggfunc=len)\n",
    "tmp_bus_2020.reset_index(inplace=True)\n",
    "tmp_bus_2020 # Lati는 의미없음\n",
    "\n",
    "li_1 = []\n",
    "li_2 = []\n",
    "li_3 = []\n",
    "li_4 = []\n",
    "li_5 = []\n",
    "li_6 = []\n",
    "\n",
    "for idx, row in tqdm(tmp_bus_2020.iterrows()):\n",
    "    tmp_list = list(set(bus_2020[bus_2020[\"RT_ID\"] == row['RT_ID']]['지역']))\n",
    "    for i in tmp_list:\n",
    "        li_1.append(row['지역'])\n",
    "        li_2.append(i)\n",
    "        li_3.append(row['RT_NM'])\n",
    "        li_4.append(row['RT_ID'])\n",
    "        li_5.append(row['광역시/도'])\n",
    "        li_6.append(row['운행횟수'])\n",
    "        \n",
    "bus20 = pd.DataFrame(list(zip(li_5, li_1, li_2, li_3, li_4, li_6)), \n",
    "                   columns=[\"광역시/도(출발)\", '출발지', '도착지', '버스번호', \"RT_ID\", \"운행횟수\"])\n",
    "\n",
    "bus20 = bus20[~bus20['도착지'].isna()]\n",
    "bus20['버스운행'] = bus20['운행횟수'] * 45\n",
    "\n",
    "bus20"
   ]
  },
  {
   "cell_type": "code",
   "execution_count": null,
   "id": "896349b6",
   "metadata": {},
   "outputs": [],
   "source": [
    "bus_2019 = bus_2019[~bus_2019.duplicated(subset=[\"Stop_ID\", \"RT_ID\"])]\n",
    "bus_2019.head()\n",
    "\n",
    "tmp_bus_2019 = pd.pivot_table(data=bus_2019, index=['지역',\"광역시/도\", 'RT_ID', \"RT_NM\", \"운행횟수\"], \n",
    "                              values=\"Lati\", aggfunc=len)\n",
    "tmp_bus_2019.reset_index(inplace=True)\n",
    "tmp_bus_2019 # Lati는 의미없음\n",
    "\n",
    "li_1 = []\n",
    "li_2 = []\n",
    "li_3 = []\n",
    "li_4 = []\n",
    "li_5 = []\n",
    "li_6 = []\n",
    "\n",
    "for idx, row in tqdm(tmp_bus_2019.iterrows()):\n",
    "    tmp_list = list(set(bus_2019[bus_2019[\"RT_ID\"] == row['RT_ID']]['지역']))\n",
    "    for i in tmp_list:\n",
    "        li_1.append(row['지역'])\n",
    "        li_2.append(i)\n",
    "        li_3.append(row['RT_NM'])\n",
    "        li_4.append(row['RT_ID'])\n",
    "        li_5.append(row['광역시/도'])\n",
    "        li_6.append(row['운행횟수'])\n",
    "        \n",
    "bus19 = pd.DataFrame(list(zip(li_5, li_1, li_2, li_3, li_4, li_6)), \n",
    "                   columns=[\"광역시/도(출발)\", '출발지', '도착지', '버스번호', \"RT_ID\", \"운행횟수\"])\n",
    "bus19 = bus19[~bus19['도착지'].isna()]\n",
    "bus19['버스운행'] = bus19['운행횟수'] * 45\n",
    "\n",
    "bus19"
   ]
  },
  {
   "cell_type": "code",
   "execution_count": null,
   "id": "cd8fdd6e",
   "metadata": {},
   "outputs": [],
   "source": []
  },
  {
   "cell_type": "markdown",
   "id": "5482aebf",
   "metadata": {},
   "source": [
    "---\n",
    "# 5. 전철 데이터 전처리"
   ]
  },
  {
   "cell_type": "markdown",
   "id": "5f4452fa",
   "metadata": {},
   "source": [
    "## 1) 크롤링으로 수집한 주소 데이터 정리 & 지역컬럼 만들기\n",
    "- 통행량 데이터의 지역구분에 따른다.\n",
    "- 크롤링으로 구한 지하철역의 주소 데이터 사용\n",
    "- 지역 컬럼에 서울시 OO구, 인천광역시 OO구/군, 경기도 OO구/군 형식으로 저장"
   ]
  },
  {
   "cell_type": "code",
   "execution_count": null,
   "id": "854dd38f",
   "metadata": {},
   "outputs": [],
   "source": [
    "rail_stop = pd.read_csv('./.csv', index_col=0)\n",
    "rail_stop['지역'] = rail_stop['광역시/도'] + \" \" + rail_stop['시/군']\n",
    "rail_stop.sort_values(by=\"지역\")\n",
    "rail_stop = rail_stop[rail_stop[\"지역\"].isin(o_li)]\n",
    "rail_stop.head()"
   ]
  },
  {
   "cell_type": "markdown",
   "id": "0bd6fd1a",
   "metadata": {},
   "source": [
    "## 2) 노선별 하루 운행 회수 구하기\n",
    "- 정류장별로 서는 노선의 하루 운행 회수를 정차시각이 있는 StopTime 데이터를 사용해 구했다.\n",
    "- StopTime 에는 정류장 정보가 없어서, Stop_rail 데이터와 병합해서 사용했다. \n",
    "```\n",
    "1) Stop_rail과 StopTime 데이터를 \"Stop_ID\" 를 기준으로 병합\n",
    "2) 필요없는 컬럼 제거\n",
    "3) 피벗테이블을 사용해 노선별 운행 회수 계산\n",
    "```"
   ]
  },
  {
   "cell_type": "code",
   "execution_count": null,
   "id": "12a647b2",
   "metadata": {},
   "outputs": [],
   "source": [
    "me_2021 = pd.merge(Stop_rail_2021, StopTime_rail_2021, on=\"Stop_ID\", how=\"right\")\n",
    "me_2021.drop(columns=['Data_SEQ_x', 'Data_SEQ_y', 'Month_x', 'Month_y', 'Gate'], inplace=True) \n",
    "\n",
    "rail_stop_count_2021 = pd.DataFrame(pd.pivot_table(data=me_2021, index=['Stop_ID', 'Stop_NM', \"RT_ID\"],values=\"Arr_Time\",aggfunc=len)).reset_index()\n",
    "rail_stop_count_2021.head()"
   ]
  },
  {
   "cell_type": "code",
   "execution_count": null,
   "id": "d2724fbc",
   "metadata": {},
   "outputs": [],
   "source": [
    "me_2020 = pd.merge(Stop_rail_2020, StopTime_rail_2020, on=\"Stop_ID\", how=\"right\")\n",
    "me_2020.drop(columns=['Data_SEQ_x', 'Data_SEQ_y', 'Month_x', 'Month_y', 'Gate'], inplace=True) \n",
    "\n",
    "rail_stop_count_2020 = pd.DataFrame(pd.pivot_table(data=me_2020, index=['Stop_ID', 'Stop_NM', \"RT_ID\"],values=\"Arr_Time\",aggfunc=len)).reset_index()\n",
    "rail_stop_count_2020.head()"
   ]
  },
  {
   "cell_type": "code",
   "execution_count": null,
   "id": "5171f2ec",
   "metadata": {},
   "outputs": [],
   "source": [
    "me_2019 = pd.merge(Stop_rail_2019, StopTime_rail_2019, on=\"Stop_ID\", how=\"right\")\n",
    "me_2019.drop(columns=['Data_SEQ_x', 'Data_SEQ_y', 'Month_x', 'Month_y', 'Gate'], inplace=True) \n",
    "\n",
    "rail_stop_count_2019 = pd.DataFrame(pd.pivot_table(data=me_2019, index=['Stop_ID', 'Stop_NM', \"RT_ID\"],values=\"Arr_Time\",aggfunc=len)).reset_index()\n",
    "rail_stop_count_2019.head()"
   ]
  },
  {
   "cell_type": "markdown",
   "id": "f0c9faa8",
   "metadata": {},
   "source": [
    "## 3) 역별 호선, 칸 개수\n",
    "- 모든 정류장의 량수 필요\n",
    "- Stop 에 정류장 정보가, Route 에 호선 별 량수 정보가 있음\n",
    "- 둘을 바로 병합할수 없어서 중간에 RouteStop 을 사용함\n",
    "\n",
    "```\n",
    "1) Stop_rail 파일과 RouteStop 파일을 \"Stop_ID\" 를 기준으로 병합\n",
    "2) 필요없는 컬럼 제거\n",
    "3) 다시 Route_rail 파일과 \"RT_ID\" 를 기준으로 병합 (Route_rail 파일에 호선별 칸수 데이터가 있음)\n",
    "```"
   ]
  },
  {
   "cell_type": "code",
   "execution_count": null,
   "id": "fca88a7c",
   "metadata": {},
   "outputs": [],
   "source": [
    "line_2021 = pd.merge(Stop_rail_2021, RouteStop_rail_2021, on=\"Stop_ID\", how=\"left\")\n",
    "line_2021.drop(columns=['Data_SEQ_x', 'Data_SEQ_y', 'Month_x', 'Month_y',\"Gate\"], inplace=True)\n",
    "line_2021 = pd.merge(line_2021, Route_rail_2021, on=\"RT_ID\", how=\"left\")\n",
    "line_2021.fillna(0, inplace=True)\n",
    "line_2021= line_2021[line_2021['객실수'] != 0]\n",
    "line_2021.head()"
   ]
  },
  {
   "cell_type": "code",
   "execution_count": null,
   "id": "0b3fcb11",
   "metadata": {},
   "outputs": [],
   "source": [
    "line_2020 = pd.merge(Stop_rail_2020, RouteStop_rail_2020, on=\"Stop_ID\", how=\"left\")\n",
    "line_2020.drop(columns=['Data_SEQ_x', 'Data_SEQ_y', 'Month_x', 'Month_y',\"Gate\"], inplace=True)\n",
    "line_2020 = pd.merge(line_2020, Route_rail_2020, on=\"RT_ID\", how=\"left\")\n",
    "line_2020.fillna(0, inplace=True)\n",
    "line_2020= line_2020[line_2020['객실수'] != 0]\n",
    "line_2020.head()"
   ]
  },
  {
   "cell_type": "code",
   "execution_count": null,
   "id": "cddf6426",
   "metadata": {},
   "outputs": [],
   "source": [
    "line_2019 = pd.merge(Stop_rail_2019, RouteStop_rail_2019, on=\"Stop_ID\", how=\"left\")\n",
    "line_2019.drop(columns=['Data_SEQ_x', 'Data_SEQ_y', 'Month_x', 'Month_y',\"Gate\"], inplace=True)\n",
    "line_2019 = pd.merge(line_2019, Route_rail_2019, on=\"RT_ID\", how=\"left\")\n",
    "line_2019.fillna(0, inplace=True)\n",
    "line_2019= line_2019[line_2019['객실수'] != 0]\n",
    "line_2019.head()"
   ]
  },
  {
   "cell_type": "markdown",
   "id": "91304a82",
   "metadata": {},
   "source": [
    "\n",
    "## 4) 데이터 합치기(연도별로)\n",
    "- 위에서 만든 모든 파일을 지하철 역명을 기준으으로 합쳐준다.\n",
    "- 파일들을 함수에 입력하면 된다."
   ]
  },
  {
   "cell_type": "code",
   "execution_count": null,
   "id": "1ddbc0be",
   "metadata": {},
   "outputs": [],
   "source": [
    "tmp21 = pd.merge(rail_stop_count_2021, line_2021,on=['RT_ID', \"Stop_NM\"], how='outer')\n",
    "tmp21.drop(columns=['Stop_ID_x', \"Data_SEQ\", \"Month\", \"RT_Stop_Ord\"], inplace=True)\n",
    "rail_2021 = pd.merge(tmp21, rail_stop, on='Stop_NM', how='left')"
   ]
  },
  {
   "cell_type": "code",
   "execution_count": null,
   "id": "b768f031",
   "metadata": {},
   "outputs": [],
   "source": [
    "tmp20 = pd.merge(rail_stop_count_2020, line_2020,on=['RT_ID', \"Stop_NM\"], how='outer')\n",
    "tmp20.drop(columns=['Stop_ID_x', \"Data_SEQ\", \"Month\", \"RT_Stop_Ord\"], inplace=True)\n",
    "rail_2020 = pd.merge(tmp20, rail_stop, on='Stop_NM', how='left')"
   ]
  },
  {
   "cell_type": "code",
   "execution_count": null,
   "id": "c9f799ba",
   "metadata": {},
   "outputs": [],
   "source": [
    "tmp19 = pd.merge(rail_stop_count_2019, line_2019,on=['RT_ID', \"Stop_NM\"], how='outer')\n",
    "tmp19.drop(columns=['Stop_ID_x', \"Data_SEQ\", \"Month\", \"RT_Stop_Ord\"], inplace=True)\n",
    "rail_2019 = pd.merge(tmp20, rail_stop, on='Stop_NM', how='left')"
   ]
  },
  {
   "cell_type": "markdown",
   "id": "9d38971d",
   "metadata": {},
   "source": [
    "## 5) 출발지-도착지 별 노선명과 운행 회수\n",
    "- 전철운행 컬럼 : 출발지-도착지 간 전철의 운송량\n",
    "- 1칸 당 160명을 정원으로 두고 계산"
   ]
  },
  {
   "cell_type": "code",
   "execution_count": null,
   "id": "78a5f462",
   "metadata": {},
   "outputs": [],
   "source": [
    "rail_2021.fillna(0, inplace=True) # 이거 다시 생각해보기\n",
    "rail_2021 = rail_2021[rail_2021['객실수'] != 0]\n",
    "rail_2021.reset_index(drop=True, inplace=True)\n",
    "\n",
    "tmp_rail_2021 =pd.DataFrame(pd.pivot_table(rail_2021, index=['지역', \"광역시/도\", 'RT_NM', '객실수'], values=\"운행횟수\", aggfunc=np.sum))\n",
    "tmp_rail_2021.reset_index(inplace=True)\n",
    "\n",
    "li_1 = []\n",
    "li_2 = []\n",
    "li_3 = []\n",
    "li_4 = []\n",
    "li_5 = []\n",
    "li_6 = []\n",
    "li_7 = []\n",
    "li_8 = []\n",
    "li_9 = []\n",
    "\n",
    "for idx, row in tqdm(tmp_rail_2021.iterrows()):\n",
    "    tmp_list = list(set(rail_2021[rail_2021[\"RT_NM\"] == row['RT_NM']]['지역']))\n",
    "    for i in tmp_list:\n",
    "        li_1.append(row['광역시/도'].strip())\n",
    "        #li_2.append(row['시/군'])\n",
    "        #li_3.append(row['구'])\n",
    "       # li_4.append(row['동/읍/면'])\n",
    "        li_5.append(row['지역'].strip())\n",
    "        li_6.append(i)\n",
    "        li_7.append(row['RT_NM'])\n",
    "        li_8.append(row['객실수'])\n",
    "        li_9.append(row['운행횟수'])\n",
    "        \n",
    "rail21 = pd.DataFrame(list(zip(li_1,li_5,li_6,li_7, li_8, li_9)),\n",
    "                    columns=[\"광역시도(출발)\", '출발지', '도착지','RT_NM', '객실수', '운행횟수'])\n",
    "rail21['전철운행'] = rail21['객실수'] * rail21['운행횟수'] * 160\n",
    "rail21 = rail21[~rail21['도착지'].isna()]\n",
    "rail21"
   ]
  },
  {
   "cell_type": "code",
   "execution_count": null,
   "id": "a2448832",
   "metadata": {},
   "outputs": [],
   "source": [
    "rail_2020.fillna(0, inplace=True) # 이거 다시 생각해보기\n",
    "rail_2020 = rail_2020[rail_2020['객실수'] != 0]\n",
    "rail_2020.reset_index(drop=True, inplace=True)\n",
    "rail_2020.info()\n",
    "\n",
    "tmp_rail_2020 =pd.DataFrame(pd.pivot_table(rail_2020, index=['지역', \"광역시/도\", 'RT_NM', '객실수'], \n",
    "                                           values=\"운행횟수\", aggfunc=np.sum))\n",
    "tmp_rail_2020.reset_index(inplace=True)\n",
    "tmp_rail_2020.head()\n",
    "\n",
    "\n",
    "\n",
    "li_1 = []\n",
    "li_5 = []\n",
    "li_6 = []\n",
    "li_7 = []\n",
    "li_8 = []\n",
    "li_9 = []\n",
    "\n",
    "for idx, row in tmp_rail_2020.iterrows():\n",
    "    tmp_list = list(set(rail_2020[rail_2020[\"RT_NM\"] == row['RT_NM']]['지역']))\n",
    "    for i in tmp_list:\n",
    "        li_1.append(row['광역시/도'])\n",
    "        li_5.append(row['지역'])\n",
    "        li_6.append(i)\n",
    "        li_7.append(row['RT_NM'])\n",
    "        li_8.append(row['객실수'])\n",
    "        li_9.append(row['운행횟수'])\n",
    "        \n",
    "        \n",
    "rail20 = pd.DataFrame(list(zip(li_1,li_5,li_6,li_7, li_8, li_9)),\n",
    "                    columns=[\"광역시도(출발)\", '출발지', '도착지','RT_NM', '객실수', '운행횟수'])\n",
    "rail20['전철운행'] = rail20['객실수'] * rail20['운행횟수'] * 160\n",
    "rail20 = rail20[~rail20['도착지'].isna()]\n",
    "rail20"
   ]
  },
  {
   "cell_type": "code",
   "execution_count": null,
   "id": "5102e308",
   "metadata": {},
   "outputs": [],
   "source": [
    "\n",
    "rail_2019.fillna(0, inplace=True) # 이거 다시 생각해보기\n",
    "\n",
    "rail_2019 = rail_2019[rail_2019['객실수'] != 0]  # 이거 다시 생각해보기\n",
    "rail_2019.reset_index(drop=True, inplace=True)\n",
    "rail_2019.info()\n",
    "\n",
    "tmp_rail_2019 =pd.DataFrame(pd.pivot_table(rail_2019, index=['지역', \"광역시/도\", 'RT_NM', '객실수'], \n",
    "                                           values=\"운행횟수\", aggfunc=np.sum))\n",
    "tmp_rail_2019.reset_index(inplace=True)\n",
    "tmp_rail_2019.head()\n",
    "\n",
    "\n",
    "\n",
    "li_1 = []\n",
    "li_5 = []\n",
    "li_6 = []\n",
    "li_7 = []\n",
    "li_8 = []\n",
    "li_9 = []\n",
    "\n",
    "for idx, row in tmp_rail_2019.iterrows():\n",
    "    tmp_list = list(set(rail_2019[rail_2019[\"RT_NM\"] == row['RT_NM']]['지역']))\n",
    "    for i in tmp_list:\n",
    "        li_1.append(row['광역시/도'])\n",
    "        li_5.append(row['지역'])\n",
    "        li_6.append(i)\n",
    "        li_7.append(row['RT_NM'])\n",
    "        li_8.append(row['객실수'])\n",
    "        li_9.append(row['운행횟수'])\n",
    "        \n",
    "        \n",
    "rail19 = pd.DataFrame(list(zip(li_1,li_5,li_6,li_7, li_8, li_9)),\n",
    "                    columns=[\"광역시도(출발)\", '출발지', '도착지','RT_NM', '객실수', '운행횟수'])\n",
    "rail19['전철운행'] = rail['객실수'] * rail['운행횟수'] * 160\n",
    "rail19 = rail19[~rail19['도착지'].isna()]\n",
    "\n",
    "\n",
    "rail19.to_excel('./aa/2019전철table.xlsx', encoding='utf-8')"
   ]
  },
  {
   "cell_type": "markdown",
   "id": "ca3db170",
   "metadata": {},
   "source": [
    "---\n",
    "# 6. 통행량, 버스, 전철 데이터 하나로 합치기\n",
    "- 출발지 - 도착지 간 버스/전철의 수송량, 통행량 데이터로 만들기\n",
    "- 교통적정 컬럼: 통행량 - 대중교통 수송량\n",
    "- 교통적정 > 0 : 대중교통 노선 부족\n",
    "- 교통적정 < 0 : 대중교통 노선 충분"
   ]
  },
  {
   "cell_type": "code",
   "execution_count": null,
   "id": "a9ea48c0",
   "metadata": {},
   "outputs": [],
   "source": [
    "pas_21[\"출발지\"] = pas_21[\"출발지\"].str.strip()\n",
    "pas_21[\"도착지\"] = pas_21[\"도착지\"].str.strip()\n",
    "\n",
    "rail_sum[\"출발지\"] = rail_sum[\"출발지\"].str.strip()\n",
    "rail_sum[\"도착지\"] = rail_sum[\"도착지\"].str.strip()\n",
    "\n",
    "bus_sum[\"출발지\"] = bus_sum[\"출발지\"].str.strip()\n",
    "bus_sum[\"도착지\"] = bus_sum[\"도착지\"].str.strip()\n",
    "\n",
    "tmp21 = pd.merge(bus_sum, rail_sum, on=[\"출발지\", \"도착지\"], how='outer')\n",
    "final_2021 = pd.merge(pas_21, tmp21, on=[\"출발지\", \"도착지\"], how='left')\n",
    "\n",
    "final_2021.fillna(0, inplace=True)\n",
    "final_2021['교통적정'] = final_2021['통행량'] - (final_2021['전철운행'] + final_2021['버스운행'])\n",
    "final_2021['연도'] = 2021\n",
    "final_2021.to_excel('./day/final_2021.xlsx', encoding='utf-8')"
   ]
  },
  {
   "cell_type": "code",
   "execution_count": null,
   "id": "7e7b5d86",
   "metadata": {},
   "outputs": [],
   "source": [
    "rail_sum20 = pd.DataFrame(pd.pivot_table(data=rail20, index=['출발지', '도착지'], values='전철운행', aggfunc=np.sum))\n",
    "rail_sum20.reset_index(inplace=True)\n",
    "\n",
    "bus_sum20 = pd.DataFrame(pd.pivot_table(data=bus20, index=['출발지', '도착지'], values='버스운행', aggfunc=np.sum))\n",
    "bus_sum20.reset_index(inplace=True)\n",
    "\n",
    "pas_20[\"출발지\"] = pas_20[\"출발지\"].str.strip()\n",
    "pas_20[\"도착지\"] = pas_20[\"도착지\"].str.strip()\n",
    "\n",
    "rail_sum20[\"출발지\"] = rail_sum20[\"출발지\"].str.strip()\n",
    "rail_sum20[\"도착지\"] = rail_sum20[\"도착지\"].str.strip()\n",
    "\n",
    "bus_sum20[\"출발지\"] = bus_sum20[\"출발지\"].str.strip()\n",
    "bus_sum20[\"도착지\"] = bus_sum20[\"도착지\"].str.strip()\n",
    "\n",
    "tmp20 = pd.merge(pas_20, rail_sum20, on=[\"출발지\", \"도착지\"], how='left')\n",
    "final_2020 = pd.merge(tmp20, bus_sum20, on=[\"출발지\", \"도착지\"], how='left')\n",
    "final_2020.fillna(0, inplace=True)\n",
    "final_2020['교통적정'] = final_2020['통행량'] - (final_2020['전철운행'] + final_2020['버스운행'])\n",
    "final_2020['연도'] = 2020\n",
    "\n",
    "final_2020.to_excel('./day/final_2020.xlsx', encoding='utf-8')"
   ]
  },
  {
   "cell_type": "code",
   "execution_count": null,
   "id": "1a7d1310",
   "metadata": {},
   "outputs": [],
   "source": [
    "rail_sum19 = pd.DataFrame(pd.pivot_table(data=rail19, index=['출발지', '도착지'], values='전철운행', aggfunc=np.sum))\n",
    "rail_sum19.reset_index(inplace=True)\n",
    "\n",
    "bus_sum19 = pd.DataFrame(pd.pivot_table(data=bus19, index=['출발지', '도착지'], values='버스운행', aggfunc=np.sum))\n",
    "bus_sum19.reset_index(inplace=True)\n",
    "\n",
    "\n",
    "pas_19[\"출발지\"] = pas_19[\"출발지\"].str.strip()\n",
    "pas_19[\"도착지\"] = pas_19[\"도착지\"].str.strip()\n",
    "\n",
    "rail_sum19[\"출발지\"] = rail_sum19[\"출발지\"].str.strip()\n",
    "rail_sum19[\"도착지\"] = rail_sum19[\"도착지\"].str.strip()\n",
    "\n",
    "bus_sum19[\"출발지\"] = bus_sum19[\"출발지\"].str.strip()\n",
    "bus_sum19[\"도착지\"] = bus_sum19[\"도착지\"].str.strip()\n",
    "\n",
    "\n",
    "tmp19 = pd.merge(pas_19, rail_sum19, on=[\"출발지\", \"도착지\"], how='left')\n",
    "final_2019 = pd.merge(tmp19, bus_sum19, on=[\"출발지\", \"도착지\"], how='left')\n",
    "final_2019.fillna(0, inplace=True)\n",
    "final_2019['교통적정'] = final_2019['통행량'] - (final_2019['전철운행'] + final_2019['버스운행'])\n",
    "final_2019['연도'] = 2019\n",
    "\n",
    "final_2019.to_excel('./day/final_2019.xlsx', encoding='utf-8')"
   ]
  },
  {
   "cell_type": "code",
   "execution_count": null,
   "id": "e4c83699",
   "metadata": {},
   "outputs": [],
   "source": [
    "final_total = pd.concat([final_2019, final_2020, final_2021])\n",
    "final_total.to_excel('./day/final_total.xlsx', encoding='utf-8')"
   ]
  }
 ],
 "metadata": {
  "kernelspec": {
   "display_name": "Python 3 (ipykernel)",
   "language": "python",
   "name": "python3"
  },
  "language_info": {
   "codemirror_mode": {
    "name": "ipython",
    "version": 3
   },
   "file_extension": ".py",
   "mimetype": "text/x-python",
   "name": "python",
   "nbconvert_exporter": "python",
   "pygments_lexer": "ipython3",
   "version": "3.10.6"
  }
 },
 "nbformat": 4,
 "nbformat_minor": 5
}
